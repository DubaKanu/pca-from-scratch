{
  "cells": [
    {
      "cell_type": "markdown",
      "metadata": {
        "id": "view-in-github",
        "colab_type": "text"
      },
      "source": [
        "<a href=\"https://colab.research.google.com/github/DubaKanu/pca-from-scratch/blob/main/PCA_Formative_1%5BPeer_Pair_Number%5D.ipynb\" target=\"_parent\"><img src=\"https://colab.research.google.com/assets/colab-badge.svg\" alt=\"Open In Colab\"/></a>"
      ]
    },
    {
      "cell_type": "markdown",
      "metadata": {
        "id": "JqkivgEHr_KW"
      },
      "source": [
        "# Formative Assignment: Advanced Linear Algebra (PCA)\n",
        "This notebook will guide you through the implementation of Principal Component Analysis (PCA). Fill in the missing code and provide the required answers in the appropriate sections. You will work with a dataset that is Africanized .\n",
        "\n",
        "Make sure to display outputs for each code cell when submitting."
      ]
    },
    {
      "cell_type": "markdown",
      "metadata": {
        "id": "xycIp758r_Kb"
      },
      "source": [
        "### Step 1: Load and Standardize the Data\n",
        "Before applying PCA, we must standardize the dataset. Standardization ensures that all features have a mean of 0 and a standard deviation of 1, which is essential for PCA.\n",
        "Fill in the code to standardize the dataset.\n",
        "\n",
        "STRICTLY - Write code that implements standardization based on the image below\n",
        "\n",
        "<img src='data:image/jpeg;base64,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'/>\n"
      ]
    },
    {
      "cell_type": "code",
      "source": [
        "#Import necessary libraries\n",
        "import numpy as np"
      ],
      "metadata": {
        "id": "VfA1QuFEhws2"
      },
      "execution_count": null,
      "outputs": []
    },
    {
      "cell_type": "markdown",
      "source": [
        "The dataset used in this project is titled “GDP Growth of African Countries (1960–2023)” and was obtained from Kaggle. It contains annual Gross Domestic Product (GDP) values, measured in current US dollars (NY.GDP.MKTP.CD), for over 30 African countries between 1960 and 2023. Each column represents a country, while each row represents a specific year. The values show the size and growth of each country’s economy over time.\n",
        "\n",
        "This dataset is valuable because it provides a long-term view of Africa’s economic performance, making it ideal for analyzing trends, identifying similarities between countries, and detecting patterns of economic development through PCA."
      ],
      "metadata": {
        "id": "CLybLsOolKka"
      }
    },
    {
      "cell_type": "code",
      "source": [
        "# Load the dataset\n",
        "\n",
        "file_path = \"/content/Africa_GDP.csv\"\n",
        "\n",
        "data = np.genfromtxt(file_path, delimiter=\",\", skip_header=1)\n",
        "\n",
        "# Display the shape of the data\n",
        "print(\"Dataset shape:\", data.shape)\n",
        "\n",
        "# Display first few rows to confirm it loaded correctly\n",
        "print(\"First 5 rows:\\n\", data[:2])"
      ],
      "metadata": {
        "colab": {
          "base_uri": "https://localhost:8080/"
        },
        "id": "IiaKu4h9h2lz",
        "outputId": "bf858d76-137e-4da1-adbb-9899fae31e80"
      },
      "execution_count": null,
      "outputs": [
        {
          "output_type": "stream",
          "name": "stdout",
          "text": [
            "Dataset shape: (64, 34)\n",
            "First 5 rows:\n",
            " [[1.96000000e+03 2.72361545e+09 2.26195578e+08 3.04114137e+07\n",
            "  3.30442816e+08 1.95999990e+08 6.14206068e+08 1.12155598e+08\n",
            "  3.13582728e+08 3.50768460e+07 1.61051169e+09 1.41468978e+08\n",
            "  1.22394366e+09 7.91265460e+08 3.45799862e+07 1.90495600e+08\n",
            "  4.01644249e+08 6.73081725e+08 1.62089564e+08 2.03715474e+09\n",
            "  4.49526873e+08 4.19617450e+09 1.19000024e+08 1.00369237e+09\n",
            "  1.20120246e+07 3.22151471e+08 1.80459937e+08 8.74859650e+09\n",
            "  1.12701149e+09 2.65172981e+09 1.71057069e+08 4.23008386e+08\n",
            "  7.13000000e+08 1.05299040e+09]\n",
            " [1.96100000e+03 2.43474706e+09 2.35668220e+08 3.29026129e+07\n",
            "  3.50247234e+08 2.02999992e+08 6.52777608e+08 1.23134584e+08\n",
            "  3.33975336e+08 4.30260428e+07 1.68085951e+09 1.67637907e+08\n",
            "  1.30985916e+09 7.92959473e+08 3.56999857e+07 1.83920900e+08\n",
            "  4.43905612e+08 6.99161945e+08 1.91757729e+08 2.02569354e+09\n",
            "  4.85785231e+08 4.46728789e+09 1.22000016e+08 1.05897526e+09\n",
            "  1.15920238e+07 3.27979248e+08 1.91659914e+08 9.22599631e+09\n",
            "  1.22356322e+09 2.82617903e+09 1.78497098e+08 4.41524109e+08\n",
            "  6.96285714e+08 1.09664660e+09]]\n"
          ]
        }
      ]
    },
    {
      "cell_type": "code",
      "source": [
        "# Check if there are any NaN values\n",
        "has_nan = np.isnan(data).any()\n",
        "print(\"Are there any missing values in the dataset?\", has_nan)\n",
        "\n",
        "# Count total number of NaNs\n",
        "num_nan = np.isnan(data).sum()\n",
        "print(\"Total missing values in the dataset:\", num_nan)\n",
        "\n",
        "# check missing values per column\n",
        "nan_per_column = np.isnan(data).sum(axis=0)\n",
        "print(\"Missing values per column:\\n\", nan_per_column)"
      ],
      "metadata": {
        "colab": {
          "base_uri": "https://localhost:8080/"
        },
        "id": "kWnhtMH7mOcl",
        "outputId": "06449eb9-14dc-4c42-fa62-082015975e64"
      },
      "execution_count": null,
      "outputs": [
        {
          "output_type": "stream",
          "name": "stdout",
          "text": [
            "Are there any missing values in the dataset? False\n",
            "Total missing values in the dataset: 0\n",
            "Missing values per column:\n",
            " [0 0 0 0 0 0 0 0 0 0 0 0 0 0 0 0 0 0 0 0 0 0 0 0 0 0 0 0 0 0 0 0 0 0]\n"
          ]
        }
      ]
    },
    {
      "cell_type": "code",
      "execution_count": null,
      "metadata": {
        "id": "BKihXBaBr_Kc",
        "colab": {
          "base_uri": "https://localhost:8080/"
        },
        "outputId": "ce0c8428-38a1-4c3c-f2ab-d7e886c1bd24"
      },
      "outputs": [
        {
          "output_type": "execute_result",
          "data": {
            "text/plain": [
              "array([[-1.70519568, -1.01800156, -0.82819294, -0.93575654, -0.84257979,\n",
              "        -1.11860451, -1.04604681, -1.31913707, -0.8040672 , -1.00523004,\n",
              "        -0.63810834, -1.05258027, -0.69810215, -0.72900724, -1.05658135,\n",
              "        -0.84442443, -1.39911009, -1.11325314, -0.96134348, -1.01804241,\n",
              "        -0.87268704, -0.92169289, -0.85740505, -0.9846317 , -0.97877888,\n",
              "        -0.88663692, -0.83914377, -1.12272562, -0.93284004, -0.82536273,\n",
              "        -1.04058758, -0.78494085, -0.83448385, -1.01285695],\n",
              "       [-1.65106248, -1.02182128, -0.82644185, -0.93535412, -0.83912057,\n",
              "        -1.11057031, -1.04321078, -1.30443675, -0.79963335, -1.00058882,\n",
              "        -0.63608592, -1.04845069, -0.69446962, -0.72895515, -1.05529373,\n",
              "        -0.85002684, -1.39731444, -1.10737309, -0.95512955, -1.01829685,\n",
              "        -0.86442368, -0.92009215, -0.85657472, -0.97766577, -0.97948674,\n",
              "        -0.88242764, -0.83546991, -1.11939259, -0.92835245, -0.81680513,\n",
              "        -1.03749515, -0.78354309, -0.83631265, -1.00709155],\n",
              "       [-1.59692929, -1.02755085, -0.82630011, -0.93491112, -0.83399929,\n",
              "        -1.09851898, -1.04016162, -1.30263159, -0.794489  , -0.9988945 ,\n",
              "        -0.63416818, -1.04605859, -0.69107528, -0.72664444, -1.04821183,\n",
              "        -0.84326027, -1.389844  , -1.09832652, -0.95387695, -1.01043993,\n",
              "        -0.85395127, -0.91748178, -0.8557444 , -0.97432657, -0.9777171 ,\n",
              "        -0.87167042, -0.8315756 , -1.11528739, -0.92345082, -0.80329486,\n",
              "        -1.03406661, -0.78297778, -0.83665653, -1.00432415],\n",
              "       [-1.54279609, -1.01827439, -0.82306644, -0.93451586, -0.8314712 ,\n",
              "        -1.07642492, -1.03839162, -1.29607562, -0.79141651, -0.99410598,\n",
              "        -0.63194036, -1.05052703, -0.68434617, -0.72484641, -1.0422566 ,\n",
              "        -0.83612994, -1.37826137, -1.09380403, -0.94212665, -1.00427634,\n",
              "        -0.84151733, -0.91596914, -0.85491407, -0.96970671, -0.97555813,\n",
              "        -0.86746103, -0.8274379 , -1.10802509, -0.92238234, -0.78588087,\n",
              "        -1.02759909, -0.77790973, -0.83385862, -0.99878935],\n",
              "       [-1.4886629 , -1.01554602, -0.82012881, -0.93394652, -0.82862742,\n",
              "        -1.04428809, -1.03410287, -1.27914331, -0.78696355, -0.98777043,\n",
              "        -0.62736726, -1.04086945, -0.67624741, -0.72262738, -1.03662327,\n",
              "        -0.82019582, -1.35918089, -1.08407852, -0.94944161, -1.0011441 ,\n",
              "        -0.84231008, -0.91368215, -0.85436052, -0.96129074, -0.97308063,\n",
              "        -0.85062368, -0.82304764, -1.10033272, -0.92065942, -0.77154399,\n",
              "        -1.01418767, -0.77240582, -0.82065061, -0.991179  ]])"
            ]
          },
          "metadata": {},
          "execution_count": 16
        }
      ],
      "source": [
        "# Step 1: Load and Standardize the data (use of numpy only allowed)\n",
        "standardized_data = (data - (np.mean(data, axis=0))) / (np.std(data, axis=0))\n",
        "standardized_data[:5]  # Display the first few rows of standardized data"
      ]
    },
    {
      "cell_type": "markdown",
      "metadata": {
        "id": "Fybn40Syr_Kd"
      },
      "source": [
        "### Step 3: Calculate the Covariance Matrix\n",
        "The covariance matrix helps us understand how the features are related to each other. It is a key component in PCA."
      ]
    },
    {
      "cell_type": "code",
      "execution_count": null,
      "metadata": {
        "id": "RbklA9tqr_Ke",
        "colab": {
          "base_uri": "https://localhost:8080/"
        },
        "outputId": "048986c3-0710-462d-eda7-60a145362d08"
      },
      "outputs": [
        {
          "output_type": "execute_result",
          "data": {
            "text/plain": [
              "array([[3.41250000e+02, 1.26073548e+12, 8.85441616e+10, ...,\n",
              "        2.06185678e+11, 1.41307075e+11, 1.14487120e+11],\n",
              "       [1.26073548e+12, 5.71922511e+21, 3.88955078e+20, ...,\n",
              "        9.35496979e+20, 6.73291149e+20, 4.88307676e+20],\n",
              "       [8.85441616e+10, 3.88955078e+20, 2.92633251e+19, ...,\n",
              "        7.01813727e+19, 4.73454031e+19, 3.67354252e+19],\n",
              "       ...,\n",
              "       [2.06185678e+11, 9.35496979e+20, 7.01813727e+19, ...,\n",
              "        1.75476089e+20, 1.15704719e+20, 9.24786059e+19],\n",
              "       [1.41307075e+11, 6.73291149e+20, 4.73454031e+19, ...,\n",
              "        1.15704719e+20, 8.35300024e+19, 6.05170631e+19],\n",
              "       [1.14487120e+11, 4.88307676e+20, 3.67354252e+19, ...,\n",
              "        9.24786059e+19, 6.05170631e+19, 5.73366937e+19]])"
            ]
          },
          "metadata": {},
          "execution_count": 17
        }
      ],
      "source": [
        "# Step 3: Calculate the Covariance Matrix\n",
        "cov_matrix = np.cov(data, ddof=0, rowvar=False)  # Calculate covariance matrix\n",
        "cov_matrix"
      ]
    },
    {
      "cell_type": "markdown",
      "metadata": {
        "id": "dWzqXsR0r_Ke"
      },
      "source": [
        "### Step 4: Perform Eigendecomposition\n",
        "Eigendecomposition of the covariance matrix will give us the eigenvalues and eigenvectors, which are essential for PCA.\n",
        "Fill in the code to compute the eigenvalues and eigenvectors of the covariance matrix."
      ]
    },
    {
      "cell_type": "code",
      "execution_count": null,
      "metadata": {
        "id": "8Tm0rzdAr_Ke",
        "colab": {
          "base_uri": "https://localhost:8080/"
        },
        "outputId": "715617d2-2351-41e8-cdd9-9ca99011f040"
      },
      "outputs": [
        {
          "output_type": "execute_result",
          "data": {
            "text/plain": [
              "(array([5.91489523e+22, 1.54770328e+21, 8.60801724e+20, 2.46592683e+20,\n",
              "        9.72094414e+19, 7.13169813e+19, 2.77610943e+19, 1.23044230e+19,\n",
              "        6.27693057e+18, 4.13136746e+18, 3.36501788e+18, 2.50343808e+18,\n",
              "        1.84506265e+18, 7.82370227e+17, 4.84683931e+17, 3.98667237e+17,\n",
              "        2.35974778e+17, 1.51940928e+17, 8.16130130e+16, 7.37759600e+16,\n",
              "        4.53031315e+16, 3.92979583e+16, 3.15099353e+16, 1.65831062e+16,\n",
              "        1.41544486e+16, 1.01287258e+16, 7.00357311e+15, 5.42908992e+15,\n",
              "        3.66264001e+15, 8.71173341e+03, 2.00589180e+15, 4.59444991e+14,\n",
              "        1.16476562e+15, 8.89452793e+14]),\n",
              " array([[-6.94515304e-11,  1.06621318e-10,  3.81675014e-11, ...,\n",
              "         -1.98592428e-08,  2.28001889e-08,  3.00079473e-09],\n",
              "        [-3.05406074e-01,  1.03012152e-01,  1.63757735e-01, ...,\n",
              "          2.35301582e-03, -4.25823927e-03,  1.84518838e-03],\n",
              "        [-2.12225839e-02,  1.44553851e-05,  5.09464048e-02, ...,\n",
              "          3.96468325e-02,  1.91889852e-01, -1.72765835e-01],\n",
              "        ...,\n",
              "        [-5.10331140e-02, -3.19422391e-02,  1.39041286e-01, ...,\n",
              "          5.84752028e-03,  1.35182781e-02,  8.96471391e-03],\n",
              "        [-3.64437858e-02, -1.25045238e-02,  3.77770840e-02, ...,\n",
              "         -4.55878072e-03, -1.58806515e-03,  7.22549314e-03],\n",
              "        [-2.69819819e-02, -2.72947830e-02,  8.25518779e-02, ...,\n",
              "         -3.19871059e-04, -4.30668365e-03, -2.13433321e-03]]))"
            ]
          },
          "metadata": {},
          "execution_count": 18
        }
      ],
      "source": [
        "# Step 4: Perform Eigendecomposition\n",
        "eigenvalues, eigenvectors = np.linalg.eig(cov_matrix)  # Perform eigendecomposition\n",
        "eigenvalues, eigenvectors"
      ]
    },
    {
      "cell_type": "markdown",
      "metadata": {
        "id": "bp6o_4sTr_Kf"
      },
      "source": [
        "### Step 5: Sort Principal Components\n",
        "Sort the eigenvectors based on their corresponding eigenvalues in descending order. The higher the eigenvalue, the more important the eigenvector.\n",
        "Complete the code to sort the eigenvectors and print the sorted components.\n",
        "\n",
        "<a url ='https://www.youtube.com/watch?v=vaF-1xUEXsA&t=17s'>How Is Explained Variance Used In PCA?'<a/>"
      ]
    },
    {
      "cell_type": "code",
      "execution_count": null,
      "metadata": {
        "id": "jpfoRz-Xr_Kf",
        "colab": {
          "base_uri": "https://localhost:8080/"
        },
        "outputId": "b85a4914-3159-4d76-b98b-47ce85b6c4e4"
      },
      "outputs": [
        {
          "output_type": "execute_result",
          "data": {
            "text/plain": [
              "array([[-6.94515304e-11,  1.06621318e-10,  3.81675014e-11, ...,\n",
              "         3.00079473e-09, -1.98592428e-08, -1.00000000e+00],\n",
              "       [-3.05406074e-01,  1.03012152e-01,  1.63757735e-01, ...,\n",
              "         1.84518838e-03,  2.35301582e-03, -1.92777712e-10],\n",
              "       [-2.12225839e-02,  1.44553851e-05,  5.09464048e-02, ...,\n",
              "        -1.72765835e-01,  3.96468325e-02, -1.18185861e-09],\n",
              "       ...,\n",
              "       [-5.10331140e-02, -3.19422391e-02,  1.39041286e-01, ...,\n",
              "         8.96471391e-03,  5.84752028e-03,  1.70837538e-09],\n",
              "       [-3.64437858e-02, -1.25045238e-02,  3.77770840e-02, ...,\n",
              "         7.22549314e-03, -4.55878072e-03, -2.94429496e-10],\n",
              "       [-2.69819819e-02, -2.72947830e-02,  8.25518779e-02, ...,\n",
              "        -2.13433321e-03, -3.19871059e-04,  4.35165322e-12]])"
            ]
          },
          "metadata": {},
          "execution_count": 19
        }
      ],
      "source": [
        "# Step 5: Sort Principal Components\n",
        "# np.argsort can only provide lowest to highest; use [::-1] to reverse the list since we were asked to make use of descending order\n",
        "sorted_indices = np.argsort(eigenvalues)[::-1]  # Sort eigenvalues in descending order\n",
        "sorted_eigenvectors = eigenvectors[:, sorted_indices]  # Sort eigenvectors accordingly\n",
        "sorted_eigenvectors"
      ]
    },
    {
      "cell_type": "markdown",
      "source": [
        "Deciding how many principal components (PCs) to keep is usually based on the explained variance, which tells us how much of the original data’s information is captured by each PC. Therefore let us calculate for the Explained variance"
      ],
      "metadata": {
        "id": "XGpPTQm7rF9u"
      }
    },
    {
      "cell_type": "markdown",
      "metadata": {
        "id": "uxbmuO27r_Kg"
      },
      "source": [
        "### Step 6: Project Data onto Principal Components\n",
        "Now that we’ve selected the number of components, we will project the original data onto the chosen principal components.\n",
        "Fill in the code to perform the projection."
      ]
    },
    {
      "cell_type": "code",
      "source": [
        "# sort eigenvalues useful for explained variance\n",
        "sorted_eigenvalues = eigenvalues[sorted_indices]\n",
        "\n",
        "# Numeric explained variance (for computation)\n",
        "explained_variance_ratio = sorted_eigenvalues / np.sum(sorted_eigenvalues)\n",
        "cumulative_variance = np.cumsum(explained_variance_ratio)\n",
        "\n",
        "# Pretty display\n",
        "explained_variance_percent = [\"{:.2f}%\".format(v * 100) for v in explained_variance_ratio]\n",
        "print(\"Explained Variance per PC:\", explained_variance_percent)"
      ],
      "metadata": {
        "colab": {
          "base_uri": "https://localhost:8080/"
        },
        "id": "FmlOW3jErhLi",
        "outputId": "db198e16-e679-4323-a1d5-cbd77af40e2e"
      },
      "execution_count": null,
      "outputs": [
        {
          "output_type": "stream",
          "name": "stdout",
          "text": [
            "Explained Variance per PC: ['95.35%', '2.49%', '1.39%', '0.40%', '0.16%', '0.11%', '0.04%', '0.02%', '0.01%', '0.01%', '0.01%', '0.00%', '0.00%', '0.00%', '0.00%', '0.00%', '0.00%', '0.00%', '0.00%', '0.00%', '0.00%', '0.00%', '0.00%', '0.00%', '0.00%', '0.00%', '0.00%', '0.00%', '0.00%', '0.00%', '0.00%', '0.00%', '0.00%', '0.00%']\n"
          ]
        }
      ]
    },
    {
      "cell_type": "code",
      "execution_count": null,
      "metadata": {
        "id": "ubjIMAtWr_Kg",
        "colab": {
          "base_uri": "https://localhost:8080/"
        },
        "outputId": "45bd3c8b-22c8-4f40-f33e-537b472f3395"
      },
      "outputs": [
        {
          "output_type": "stream",
          "name": "stdout",
          "text": [
            "Number of principal components to keep (95% variance): 1\n"
          ]
        },
        {
          "output_type": "execute_result",
          "data": {
            "text/plain": [
              "array([[2.6538604 ],\n",
              "       [2.64895612],\n",
              "       [2.64100349],\n",
              "       [2.62666421],\n",
              "       [2.61234084]])"
            ]
          },
          "metadata": {},
          "execution_count": 21
        }
      ],
      "source": [
        "# Step 6: Project Data onto Principal Components\n",
        "num_components = np.argmax(cumulative_variance >= 0.95) + 1  # Decide on the number of principal components to keep\n",
        "print(\"Number of principal components to keep (95% variance):\", num_components)\n",
        "reduced_data = standardized_data.dot(sorted_eigenvectors[:, :num_components])  # Project data onto the principal components\n",
        "reduced_data[:5]\n"
      ]
    },
    {
      "cell_type": "markdown",
      "metadata": {
        "id": "XVq-b6vtr_Kg"
      },
      "source": [
        "### Step 7: Output the Reduced Data\n",
        "Finally, display the reduced data obtained by projecting the original dataset onto the selected principal components."
      ]
    },
    {
      "cell_type": "code",
      "execution_count": null,
      "metadata": {
        "id": "5D0uzRyPr_Kg",
        "colab": {
          "base_uri": "https://localhost:8080/"
        },
        "outputId": "9382e13b-7513-4c99-ff08-2086acff5e45"
      },
      "outputs": [
        {
          "output_type": "stream",
          "name": "stdout",
          "text": [
            "Reduced Data Shape: (64, 1)\n"
          ]
        },
        {
          "output_type": "execute_result",
          "data": {
            "text/plain": [
              "array([[2.6538604 ],\n",
              "       [2.64895612],\n",
              "       [2.64100349],\n",
              "       [2.62666421],\n",
              "       [2.61234084]])"
            ]
          },
          "metadata": {},
          "execution_count": 22
        }
      ],
      "source": [
        "# Step 7: Output the Reduced Data\n",
        "print(f'Reduced Data Shape: {reduced_data.shape}')  # Display reduced data shape\n",
        "reduced_data[:5]  # Display the first few rows of reduced data"
      ]
    },
    {
      "cell_type": "markdown",
      "metadata": {
        "id": "S1f8ROm5r_Kg"
      },
      "source": [
        "### Step 8: Visualize Before and After PCA\n",
        "Now, let's plot the original data and the data after PCA to compare the reduction in dimensions visually."
      ]
    },
    {
      "cell_type": "code",
      "execution_count": null,
      "metadata": {
        "id": "WwuppWV-r_Kg",
        "colab": {
          "base_uri": "https://localhost:8080/",
          "height": 486
        },
        "outputId": "241503fd-0559-4fa1-8fec-4f35142b94ab"
      },
      "outputs": [
        {
          "output_type": "display_data",
          "data": {
            "text/plain": [
              "<Figure size 1200x500 with 2 Axes>"
            ],
            "image/png": "[encoded data removed]"
          },
          "metadata": {}
        }
      ],
      "source": [
        "# Step 8: Visualize Before and After PCA\n",
        "import matplotlib.pyplot as plt\n",
        "# Plot original data (first two features for simplicity)\n",
        "plt.figure(figsize=(12, 5))\n",
        "\n",
        "plt.subplot(1, 2, 1)\n",
        "plt.scatter(standardized_data[:, 0], standardized_data[:, 1], color='blue', alpha=0.6)\n",
        "plt.title(\"Original Data (First 2 Countries)\")\n",
        "plt.xlabel(\"Country 1 (standardized GDP)\")\n",
        "plt.ylabel(\"Country 2 (standardized GDP)\")\n",
        "plt.grid(True)\n",
        "\n",
        "# Plot reduced data after PCA\n",
        "plt.subplot(1, 2, 2)\n",
        "plt.scatter(reduced_data[:, 0], np.zeros_like(reduced_data[:, 0]), color='red', alpha=0.6)\n",
        "plt.title(\"Reduced Data (1st Principal Component)\")\n",
        "plt.xlabel(\"PC1\")\n",
        "plt.yticks([])  # No y-axis since it's 1D\n",
        "plt.grid(True)\n",
        "plt.tight_layout()\n",
        "plt.show()\n",
        "\n"
      ]
    },
    {
      "cell_type": "markdown",
      "source": [
        "**ANALYSIS OF OUTPUT**\n",
        "\n",
        "The results of the PCA reveal that the first principal component alone explains 95.35% of the total variance in the dataset, which is remarkably high. This indicates that nearly all the information contained in the GDP data across the African countries can be captured along a single dominant direction. Consequently, the dynamic selection process correctly determined that only one principal component is sufficient to retain at least 95% of the variance. The projected data onto this component reduces the dataset to a single value per year, reflecting each year’s position along the main trend of variation across all countries. This pattern suggests that the GDPs of most African countries tend to move together over time, highlighting a strong common economic growth trajectory across the continent. Such a result is insightful because it shows that despite the diversity of countries, there exists a dominant underlying trend in their economic development over the period from 1960 to 2023."
      ],
      "metadata": {
        "id": "2zKQXmzttS-r"
      }
    }
  ],
  "metadata": {
    "kernelspec": {
      "display_name": "Python 3",
      "name": "python3"
    },
    "language_info": {
      "name": "python",
      "version": "3.8.8"
    },
    "colab": {
      "provenance": [],
      "include_colab_link": true
    }
  },
  "nbformat": 4,
  "nbformat_minor": 0
}
